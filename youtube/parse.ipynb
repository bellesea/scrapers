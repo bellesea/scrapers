{
 "cells": [
  {
   "cell_type": "code",
   "execution_count": 14,
   "metadata": {},
   "outputs": [],
   "source": [
    "from bs4 import BeautifulSoup as BS\n",
    "import pandas as pd\n",
    "import re"
   ]
  },
  {
   "cell_type": "code",
   "execution_count": 18,
   "metadata": {},
   "outputs": [
    {
     "name": "stdout",
     "output_type": "stream",
     "text": [
      "SOON: President Trump signs executive orders at the White House\n",
      "https://youtube.com/watch?v=xLep9rUAvaI&pp=ygUFdHJ1bXA%3D\n",
      "Trump Responds To Movement In Canada To Become 51st State\n",
      "https://youtube.com/watch?v=uYYTVowzs-I&pp=ygUFdHJ1bXA%3D\n",
      "Trump Proposes $5 Million ‘Gold Card’ Granting Permanent U.S. Residency | WSJ News\n",
      "https://youtube.com/watch?v=XQJjP5Gg96s&pp=ygUFdHJ1bXA%3D\n",
      "WATCH LIVE: Elon Musk attends Trump cabinet meeting at the White House\n",
      "https://youtube.com/watch?v=edRq9PMMlQs&pp=ygUFdHJ1bXA%3D\n",
      "Trump signs executive orders\n",
      "https://youtube.com/watch?v=DRdydQV53nQ&pp=ygUFdHJ1bXA%3D\n",
      "LIVE: Trump holds first Cabinet meeting with Elon Musk in attendance\n",
      "https://youtube.com/watch?v=ZIUhuqLH6Gc&pp=ygUFdHJ1bXA%3D\n",
      "President Trump Hosts First Cabinet Meeting, Feb. 26, 2025\n",
      "https://youtube.com/watch?v=OMpL4Hze__4&pp=ygUFdHJ1bXA%3D\n",
      "WATCH LIVE: Elon Musk attends Trump cabinet meeting at the White House\n",
      "https://youtube.com/watch?v=edRq9PMMlQs&pp=ygUFdHJ1bXA%3D\n",
      "LIVE: President Trump holds first cabinet meeting of his second term\n",
      "https://youtube.com/watch?v=wOpf9Zff8eU&pp=ygUFdHJ1bXA%3D\n",
      "LIVE: Trump holds first Cabinet meeting with Elon Musk in attendance\n",
      "https://youtube.com/watch?v=ZIUhuqLH6Gc&pp=ygUFdHJ1bXA%3D\n",
      "Trump signs executive orders\n",
      "https://youtube.com/watch?v=DRdydQV53nQ&pp=ygUFdHJ1bXA%3D\n",
      "Donald Trump shares AI-generated video of Gaza vision\n",
      "https://youtube.com/watch?v=ybtb1nAghBM&pp=ygUFdHJ1bXA%3D\n",
      "Trump Unleashes Insults On Associated Press After Judge Rules White House Can Bar AP Reporter Access\n",
      "https://youtube.com/watch?v=7key7ocFzg4&pp=ygUFdHJ1bXA%3D\n",
      "Zelensky caves to Trump’s demands after refusing to sign $500bn deal in humiliating backflip\n",
      "https://youtube.com/watch?v=fyRgqpwDi3E&pp=ygUFdHJ1bXA%3D\n",
      "President Trump holds his first cabinet meeting, with Elon Musk attending\n",
      "https://youtube.com/watch?v=iYQfBGuaE3E&pp=ygUFdHJ1bXA%3D\n",
      "President Trump signs new executive orders\n",
      "https://youtube.com/watch?v=g1_a_gR9qGU&pp=ygUFdHJ1bXA%3D\n",
      "House Democrat faces threat of removal after calling Trump 'grifter'\n",
      "https://youtube.com/watch?v=0LFFrtNAbNg&pp=ygUFdHJ1bXA%3D\n",
      "LIVE: President Trump to hold first official cabinet meeting, DOGE latest, Hamas hostage release\n",
      "https://youtube.com/watch?v=kj_5MqSpzQI&pp=ygUFdHJ1bXA%3D\n",
      "Ukraine Agrees to Mineral Rights Deal With U.S., Zelensky to Visit Trump | WSJ News\n",
      "https://youtube.com/watch?v=Mja48lD8EeM&pp=ygUFdHJ1bXA%3D\n",
      "Lawrence: Trump and House GOP taking health care away from poor people so Elon Musk can be richer\n",
      "https://youtube.com/watch?v=FqSS9t2oYW0&pp=ygUFdHJ1bXA%3D\n",
      "Watch live: President Donald Trump hosts first Cabinet meeting\n",
      "https://youtube.com/watch?v=XonNs-RYQuk&pp=ygUFdHJ1bXA%3D\n",
      "President Trump Has Large Bruise on His Hand\n",
      "https://youtube.com/watch?v=N6mrIKSAD6c&pp=ygUFdHJ1bXA%3D\n",
      "Trump Surprises Tour Group in White House\n",
      "https://youtube.com/watch?v=z4vTxmYJvi4&pp=ygUFdHJ1bXA%3D\n"
     ]
    }
   ],
   "source": [
    "\n",
    "with open('./results/vid_0_trump.html', 'r') as f:\n",
    "    contents = f.read()\n",
    "\n",
    "    soup = BS(contents, \"html.parser\")\n",
    "    # LOGIC TO PARSE\n",
    "    videos = soup.findAll(\"a\", {\"id\": \"video-title\"})\n",
    "\n",
    "    \n",
    "    for vid in videos:\n",
    "        print(vid['title'])\n",
    "        print(\"https://youtube.com\" + vid['href'])\n",
    "        # print(vid.title)\n",
    "    # username = soup.find(\"span\", {\"class\": \"css-1c7urt-SpanUniqueId evv7pft1\"}).text\n",
    "    # nickname = soup.find(\"span\", {\"class\": \"css-1xccqfx-SpanNickName e17fzhrb1\"}).text\n",
    "    # description = soup.find(\"span\", {\"class\": \"css-j2a19r-SpanText efbd9f0\"}).text\n",
    "    # music = soup.find(\"div\", {\"class\": \"css-pvx3oa-DivMusicText epjbyn3\"}).text"
   ]
  }
 ],
 "metadata": {
  "kernelspec": {
   "display_name": "venv",
   "language": "python",
   "name": "python3"
  },
  "language_info": {
   "codemirror_mode": {
    "name": "ipython",
    "version": 3
   },
   "file_extension": ".py",
   "mimetype": "text/x-python",
   "name": "python",
   "nbconvert_exporter": "python",
   "pygments_lexer": "ipython3",
   "version": "3.10.14"
  }
 },
 "nbformat": 4,
 "nbformat_minor": 2
}
